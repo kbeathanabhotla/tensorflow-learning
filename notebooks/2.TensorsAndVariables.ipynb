{
 "cells": [
  {
   "cell_type": "code",
   "execution_count": null,
   "metadata": {},
   "outputs": [],
   "source": [
    "import tensorflow as tf"
   ]
  },
  {
   "cell_type": "markdown",
   "metadata": {},
   "source": [
    "#### Creating a static constant"
   ]
  },
  {
   "cell_type": "code",
   "execution_count": 11,
   "metadata": {},
   "outputs": [
    {
     "name": "stdout",
     "output_type": "stream",
     "text": [
      "x shape is ()\n",
      "y shape is ()\n",
      "z shape is (3,)\n",
      "x dtype is <dtype: 'int32'>\n",
      "y dtype is <dtype: 'int32'>\n",
      "z dtype is <dtype: 'float32'>\n"
     ]
    }
   ],
   "source": [
    "x = tf.constant(3, name='x') # highly recommended practise to set the name equal to variable name.\n",
    "y = tf.constant(4) # If no name is given, the value for name is same as variable name\n",
    "z = tf.convert_to_tensor([3.,4.,5.])\n",
    "\n",
    "print('x shape is '+str(x.shape)) # As the tensor remresents a single number, the shape is empty tuple\n",
    "print('y shape is '+str(y.shape))\n",
    "print('z shape is '+str(z.shape))\n",
    "\n",
    "print('x dtype is '+str(x.dtype)) # For int types its int32 and for floating type values its float32\n",
    "print('y dtype is '+str(y.dtype))\n",
    "print('z dtype is '+str(z.dtype))"
   ]
  },
  {
   "cell_type": "markdown",
   "metadata": {},
   "source": [
    "#### Creating variables"
   ]
  },
  {
   "cell_type": "code",
   "execution_count": 18,
   "metadata": {},
   "outputs": [],
   "source": [
    "tf.reset_default_graph()\n",
    "\n",
    "x = tf.Variable(initial_value=3, name='x')\n",
    "y = tf.get_variable('y', initializer=[4.,5.,6.]) # recommended way of creating a variable. Tensorflow returns a variable which maches the name and initializer values else creates and returns\n",
    "z = y + 3."
   ]
  },
  {
   "cell_type": "markdown",
   "metadata": {},
   "source": [
    "#### Recommended ways of creating and using variables"
   ]
  },
  {
   "cell_type": "code",
   "execution_count": null,
   "metadata": {},
   "outputs": [],
   "source": [
    "# tf.AUTO_REUSE will create variables if they do not exist else return them otherwise.\n",
    "# Any variable under the with belongs to my_scope and will not be available out of the scope\n",
    "with tf.variable_scope('my_scope', reuse=tf.AUTO_REUSE):\n",
    "    # Creating a Variable directly via the tf.Variable constructor (old-school).\n",
    "    var_basic = tf.Variable(initial_value=5, dtype=tf.int32, name='var_basic')\n",
    "    # Creating a Variable via tf.get_variable (recommended).\n",
    "    var_get = tf.get_variable('var_get', dtype=tf.int32, initializer=6)\n",
    "    # Defining a variable whose initial value depends on another variable being initialized.\n",
    "    var_dep = tf.get_variable('var_dep', initializer=var_get.initialized_value() + 1)\n"
   ]
  },
  {
   "cell_type": "code",
   "execution_count": null,
   "metadata": {},
   "outputs": [],
   "source": []
  },
  {
   "cell_type": "code",
   "execution_count": null,
   "metadata": {},
   "outputs": [],
   "source": []
  },
  {
   "cell_type": "code",
   "execution_count": null,
   "metadata": {},
   "outputs": [],
   "source": []
  },
  {
   "cell_type": "code",
   "execution_count": null,
   "metadata": {},
   "outputs": [],
   "source": []
  },
  {
   "cell_type": "code",
   "execution_count": null,
   "metadata": {},
   "outputs": [],
   "source": []
  },
  {
   "cell_type": "code",
   "execution_count": null,
   "metadata": {},
   "outputs": [],
   "source": []
  },
  {
   "cell_type": "code",
   "execution_count": null,
   "metadata": {},
   "outputs": [],
   "source": []
  },
  {
   "cell_type": "code",
   "execution_count": null,
   "metadata": {},
   "outputs": [],
   "source": []
  }
 ],
 "metadata": {
  "kernelspec": {
   "display_name": "Python 2",
   "language": "python",
   "name": "python2"
  },
  "language_info": {
   "codemirror_mode": {
    "name": "ipython",
    "version": 2
   },
   "file_extension": ".py",
   "mimetype": "text/x-python",
   "name": "python",
   "nbconvert_exporter": "python",
   "pygments_lexer": "ipython2",
   "version": "2.7.15"
  }
 },
 "nbformat": 4,
 "nbformat_minor": 2
}
